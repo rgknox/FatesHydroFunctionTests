{
 "cells": [
  {
   "cell_type": "markdown",
   "metadata": {},
   "source": [
    "This notebook details the calculation of conductance from node of the inner-most rhizosphere shell to the node in the absorbing roots.\n",
    "\n",
    "The effective conductance that is used $K$, is calculated by assuming a series of two conductors between the nodes.  These are the conductance through the soil matrix on the inner portion of the rhizosphere $K_{rh1}$, and the radial conductance through cellular structures of the absorbing root tissues $K_{ar}$ the exodermis, cortex, casparian strip and endodermis. Units are in $[$kg s-1 MPa-1$]$\n",
    "\n",
    "$K = \\left( \\frac{1}{K_{ar}} + \\frac{1}{K_{rh1}}    \\right)^{-1}$\n",
    "\n",
    "In FATES-HYDRO, it is important to understand that we solve the equations that balance water uptake at the individual plant level.  Moreover, the absorbing roots are broken up into soil layers.  Thus, the rhizospheres, and the flow cross section into the absorbing roots, is for a single plant.\n",
    "\n",
    "Assuming the flow is into the plant, for any soil layer $j$:\n",
    "\n",
    "$ K_{ar(j)} = K_{ar,in}^* \\cdot 2 \\pi r_{fr} \\cdot l_{ar(j)}$\n",
    "\n",
    "Where $K_{ar,in}^*$ is a constant plant dependent parameter in units $[$kg s-1 MPa-1 m-2$]$.  Which is multiplied by root surface area, using a cylinder model, described by root radius $r_{fr}$ and total length of root in that layer $l_{ar(j)}$.\n",
    "\n",
    "The root length is defined by how much total fine-root mass there is $C_{ar}$ $[$kg$]$, the fraction of root over depth $f_{rz(j)}$ and the specific root length $S_{rl}^*$ $[$m/g$]$:\n",
    "\n",
    "$l_{ar(j)} = C_{ar} \\cdot f_{rz(j)} \\cdot S_{rl}^* \\cdot 1000 \\frac{g}{kg}$\n",
    "\n",
    "\n",
    "$K_{rh1} = K_{sat,rh(j)} 2 \\pi l_{ar} / log(r_{rh(1)}/r_{fr}  )$\n",
    "\n",
    "\n",
    "\n"
   ]
  },
  {
   "cell_type": "code",
   "execution_count": null,
   "metadata": {},
   "outputs": [],
   "source": [
    "def KmaxSurfArootIn(r_fr,kmax_in_m2,l_aroot):\n",
    "    \n",
    "    \n",
    "    kmax_aroot = kmax_in_m2 * 2. * pi * r_fr**2.0 * l_aroot\n",
    "    \n",
    "    "
   ]
  }
 ],
 "metadata": {
  "kernelspec": {
   "display_name": "Python 2",
   "language": "python",
   "name": "python2"
  },
  "language_info": {
   "codemirror_mode": {
    "name": "ipython",
    "version": 2
   },
   "file_extension": ".py",
   "mimetype": "text/x-python",
   "name": "python",
   "nbconvert_exporter": "python",
   "pygments_lexer": "ipython2",
   "version": "2.7.15"
  }
 },
 "nbformat": 4,
 "nbformat_minor": 2
}
